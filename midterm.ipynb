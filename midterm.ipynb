{
 "cells": [
  {
   "cell_type": "code",
   "execution_count": 1,
   "id": "8d135b0c",
   "metadata": {
    "execution": {
     "iopub.execute_input": "2023-04-16T15:15:57.527511Z",
     "iopub.status.busy": "2023-04-16T15:15:57.526930Z",
     "iopub.status.idle": "2023-04-16T15:15:57.538407Z",
     "shell.execute_reply": "2023-04-16T15:15:57.537725Z"
    },
    "papermill": {
     "duration": 0.017709,
     "end_time": "2023-04-16T15:15:57.540242",
     "exception": false,
     "start_time": "2023-04-16T15:15:57.522533",
     "status": "completed"
    },
    "tags": []
   },
   "outputs": [
    {
     "name": "stdout",
     "output_type": "stream",
     "text": [
      "/kaggle/input/Kannada-MNIST/sample_submission.csv\n",
      "/kaggle/input/Kannada-MNIST/Dig-MNIST.csv\n",
      "/kaggle/input/Kannada-MNIST/train.csv\n",
      "/kaggle/input/Kannada-MNIST/test.csv\n"
     ]
    }
   ],
   "source": [
    "# This Python 3 environment comes with many helpful analytics libraries installed\n",
    "# It is defined by the kaggle/python Docker image: https://github.com/kaggle/docker-python\n",
    "# For example, here's several helpful packages to load\n",
    "\n",
    "import numpy as np # linear algebra\n",
    "import pandas as pd # data processing, CSV file I/O (e.g. pd.read_csv)\n",
    "\n",
    "# Input data files are available in the read-only \"../input/\" directory\n",
    "# For example, running this (by clicking run or pressing Shift+Enter) will list all files under the input directory\n",
    "\n",
    "import os\n",
    "for dirname, _, filenames in os.walk('/kaggle/input'):\n",
    "    for filename in filenames:\n",
    "        print(os.path.join(dirname, filename))\n",
    "\n",
    "# You can write up to 20GB to the current directory (/kaggle/working/) that gets preserved as output when you create a version using \"Save & Run All\" \n",
    "# You can also write temporary files to /kaggle/temp/, but they won't be saved outside of the current session"
   ]
  },
  {
   "cell_type": "code",
   "execution_count": 2,
   "id": "4b465dae",
   "metadata": {
    "execution": {
     "iopub.execute_input": "2023-04-16T15:15:57.546396Z",
     "iopub.status.busy": "2023-04-16T15:15:57.545734Z",
     "iopub.status.idle": "2023-04-16T15:15:59.042580Z",
     "shell.execute_reply": "2023-04-16T15:15:59.040997Z"
    },
    "papermill": {
     "duration": 1.502402,
     "end_time": "2023-04-16T15:15:59.045052",
     "exception": false,
     "start_time": "2023-04-16T15:15:57.542650",
     "status": "completed"
    },
    "tags": []
   },
   "outputs": [],
   "source": [
    "from sklearn.ensemble import RandomForestClassifier"
   ]
  },
  {
   "cell_type": "code",
   "execution_count": 3,
   "id": "b0a0eb97",
   "metadata": {
    "execution": {
     "iopub.execute_input": "2023-04-16T15:15:59.051518Z",
     "iopub.status.busy": "2023-04-16T15:15:59.051179Z",
     "iopub.status.idle": "2023-04-16T15:16:03.282293Z",
     "shell.execute_reply": "2023-04-16T15:16:03.280758Z"
    },
    "papermill": {
     "duration": 4.236939,
     "end_time": "2023-04-16T15:16:03.284818",
     "exception": false,
     "start_time": "2023-04-16T15:15:59.047879",
     "status": "completed"
    },
    "tags": []
   },
   "outputs": [],
   "source": [
    "# Load the training and test data\n",
    "train_df = pd.read_csv('/kaggle/input/Kannada-MNIST/train.csv')\n",
    "test_df = pd.read_csv('/kaggle/input/Kannada-MNIST/test.csv')"
   ]
  },
  {
   "cell_type": "code",
   "execution_count": 4,
   "id": "68919e96",
   "metadata": {
    "execution": {
     "iopub.execute_input": "2023-04-16T15:16:03.290742Z",
     "iopub.status.busy": "2023-04-16T15:16:03.290413Z",
     "iopub.status.idle": "2023-04-16T15:16:03.356857Z",
     "shell.execute_reply": "2023-04-16T15:16:03.355686Z"
    },
    "papermill": {
     "duration": 0.072173,
     "end_time": "2023-04-16T15:16:03.359395",
     "exception": false,
     "start_time": "2023-04-16T15:16:03.287222",
     "status": "completed"
    },
    "tags": []
   },
   "outputs": [],
   "source": [
    "# Separate the input features (pixels) and the target label (digit) for the training data\n",
    "X_train = train_df.iloc[:, 1:].values.astype(np.float32)\n",
    "y_train = train_df.iloc[:, 0].values.astype(np.int32)"
   ]
  },
  {
   "cell_type": "code",
   "execution_count": 5,
   "id": "139b0421",
   "metadata": {
    "execution": {
     "iopub.execute_input": "2023-04-16T15:16:03.365553Z",
     "iopub.status.busy": "2023-04-16T15:16:03.365280Z",
     "iopub.status.idle": "2023-04-16T15:16:03.383114Z",
     "shell.execute_reply": "2023-04-16T15:16:03.381755Z"
    },
    "papermill": {
     "duration": 0.023592,
     "end_time": "2023-04-16T15:16:03.385572",
     "exception": false,
     "start_time": "2023-04-16T15:16:03.361980",
     "status": "completed"
    },
    "tags": []
   },
   "outputs": [],
   "source": [
    "# Normalize the pixel values to be between 0 and 1\n",
    "X_train /= 255.0"
   ]
  },
  {
   "cell_type": "code",
   "execution_count": 6,
   "id": "5b2a12e0",
   "metadata": {
    "execution": {
     "iopub.execute_input": "2023-04-16T15:16:03.392392Z",
     "iopub.status.busy": "2023-04-16T15:16:03.392056Z",
     "iopub.status.idle": "2023-04-16T15:16:42.498736Z",
     "shell.execute_reply": "2023-04-16T15:16:42.497447Z"
    },
    "papermill": {
     "duration": 39.112294,
     "end_time": "2023-04-16T15:16:42.500837",
     "exception": false,
     "start_time": "2023-04-16T15:16:03.388543",
     "status": "completed"
    },
    "tags": []
   },
   "outputs": [
    {
     "data": {
      "text/plain": [
       "RandomForestClassifier(random_state=42)"
      ]
     },
     "execution_count": 6,
     "metadata": {},
     "output_type": "execute_result"
    }
   ],
   "source": [
    "# Create and fit the Random Forest classifier\n",
    "rf = RandomForestClassifier(n_estimators=100, random_state=42)\n",
    "rf.fit(X_train, y_train)"
   ]
  },
  {
   "cell_type": "code",
   "execution_count": 7,
   "id": "3ede49ea",
   "metadata": {
    "execution": {
     "iopub.execute_input": "2023-04-16T15:16:42.507603Z",
     "iopub.status.busy": "2023-04-16T15:16:42.506592Z",
     "iopub.status.idle": "2023-04-16T15:16:42.743559Z",
     "shell.execute_reply": "2023-04-16T15:16:42.741701Z"
    },
    "papermill": {
     "duration": 0.242886,
     "end_time": "2023-04-16T15:16:42.746102",
     "exception": false,
     "start_time": "2023-04-16T15:16:42.503216",
     "status": "completed"
    },
    "tags": []
   },
   "outputs": [],
   "source": [
    "# Predict the labels for the test data\n",
    "X_test = test_df.iloc[:, 1:].values.astype(np.float32)\n",
    "X_test /= 255.0\n",
    "y_test_pred = rf.predict(X_test)"
   ]
  },
  {
   "cell_type": "code",
   "execution_count": 8,
   "id": "1982e317",
   "metadata": {
    "execution": {
     "iopub.execute_input": "2023-04-16T15:16:42.754225Z",
     "iopub.status.busy": "2023-04-16T15:16:42.753344Z",
     "iopub.status.idle": "2023-04-16T15:16:42.771672Z",
     "shell.execute_reply": "2023-04-16T15:16:42.769786Z"
    },
    "papermill": {
     "duration": 0.025378,
     "end_time": "2023-04-16T15:16:42.774529",
     "exception": false,
     "start_time": "2023-04-16T15:16:42.749151",
     "status": "completed"
    },
    "tags": []
   },
   "outputs": [],
   "source": [
    "# Create a submission file\n",
    "submission_df = pd.DataFrame({'id': test_df.index.values, 'label': y_test_pred})\n",
    "submission_df.to_csv('submission.csv', index=False)"
   ]
  }
 ],
 "metadata": {
  "kernelspec": {
   "display_name": "Python 3",
   "language": "python",
   "name": "python3"
  },
  "language_info": {
   "codemirror_mode": {
    "name": "ipython",
    "version": 3
   },
   "file_extension": ".py",
   "mimetype": "text/x-python",
   "name": "python",
   "nbconvert_exporter": "python",
   "pygments_lexer": "ipython3",
   "version": "3.7.12"
  },
  "papermill": {
   "default_parameters": {},
   "duration": 54.916063,
   "end_time": "2023-04-16T15:16:43.500341",
   "environment_variables": {},
   "exception": null,
   "input_path": "__notebook__.ipynb",
   "output_path": "__notebook__.ipynb",
   "parameters": {},
   "start_time": "2023-04-16T15:15:48.584278",
   "version": "2.4.0"
  }
 },
 "nbformat": 4,
 "nbformat_minor": 5
}
